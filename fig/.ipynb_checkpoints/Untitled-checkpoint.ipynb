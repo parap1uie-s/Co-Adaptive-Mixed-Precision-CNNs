{
 "cells": [
  {
   "cell_type": "code",
   "execution_count": 35,
   "metadata": {},
   "outputs": [],
   "source": [
    "import pandas as pd\n",
    "import numpy as np\n",
    "\n",
    "import matplotlib.pyplot as plt\n",
    "from matplotlib.backends.backend_pdf import PdfPages\n",
    "\n",
    "% matplotlib inline"
   ]
  },
  {
   "cell_type": "code",
   "execution_count": 2,
   "metadata": {},
   "outputs": [
    {
     "data": {
      "text/html": [
       "<div>\n",
       "<style scoped>\n",
       "    .dataframe tbody tr th:only-of-type {\n",
       "        vertical-align: middle;\n",
       "    }\n",
       "\n",
       "    .dataframe tbody tr th {\n",
       "        vertical-align: top;\n",
       "    }\n",
       "\n",
       "    .dataframe thead th {\n",
       "        text-align: right;\n",
       "    }\n",
       "</style>\n",
       "<table border=\"1\" class=\"dataframe\">\n",
       "  <thead>\n",
       "    <tr style=\"text-align: right;\">\n",
       "      <th></th>\n",
       "      <th>ResNet-44</th>\n",
       "      <th>Unnamed: 1</th>\n",
       "      <th>Unnamed: 2</th>\n",
       "      <th>Unnamed: 3</th>\n",
       "      <th>Unnamed: 4</th>\n",
       "    </tr>\n",
       "  </thead>\n",
       "  <tbody>\n",
       "    <tr>\n",
       "      <th>0</th>\n",
       "      <td>CIFAR-100</td>\n",
       "      <td>Top1</td>\n",
       "      <td>Top5</td>\n",
       "      <td>Energy</td>\n",
       "      <td>NaN</td>\n",
       "    </tr>\n",
       "    <tr>\n",
       "      <th>1</th>\n",
       "      <td>32b</td>\n",
       "      <td>0.7801</td>\n",
       "      <td>94.57</td>\n",
       "      <td>5.78254E-05</td>\n",
       "      <td>84.214559</td>\n",
       "    </tr>\n",
       "    <tr>\n",
       "      <th>2</th>\n",
       "      <td>4b</td>\n",
       "      <td>0.7674</td>\n",
       "      <td>93.52</td>\n",
       "      <td>6.86643E-07</td>\n",
       "      <td>1.000000</td>\n",
       "    </tr>\n",
       "    <tr>\n",
       "      <th>3</th>\n",
       "      <td>1b</td>\n",
       "      <td>0.7379</td>\n",
       "      <td>92.32</td>\n",
       "      <td>1.13788E-07</td>\n",
       "      <td>0.165716</td>\n",
       "    </tr>\n",
       "    <tr>\n",
       "      <th>4</th>\n",
       "      <td>CAMP1</td>\n",
       "      <td>0.7784</td>\n",
       "      <td>94.11</td>\n",
       "      <td>6.21871E-07</td>\n",
       "      <td>0.905668</td>\n",
       "    </tr>\n",
       "    <tr>\n",
       "      <th>5</th>\n",
       "      <td>CAMP2</td>\n",
       "      <td>0.6976</td>\n",
       "      <td>91.24</td>\n",
       "      <td>4.1782E-07</td>\n",
       "      <td>0.608496</td>\n",
       "    </tr>\n",
       "    <tr>\n",
       "      <th>6</th>\n",
       "      <td>CAMP3</td>\n",
       "      <td>0.7641</td>\n",
       "      <td>93.48</td>\n",
       "      <td>4.27329E-07</td>\n",
       "      <td>0.622345</td>\n",
       "    </tr>\n",
       "    <tr>\n",
       "      <th>7</th>\n",
       "      <td>CAMP4</td>\n",
       "      <td>0.7739</td>\n",
       "      <td>93.71</td>\n",
       "      <td>4.83125E-07</td>\n",
       "      <td>0.703604</td>\n",
       "    </tr>\n",
       "    <tr>\n",
       "      <th>8</th>\n",
       "      <td>CAMP5</td>\n",
       "      <td>0.7786</td>\n",
       "      <td>94.02</td>\n",
       "      <td>5.88187E-07</td>\n",
       "      <td>0.856612</td>\n",
       "    </tr>\n",
       "    <tr>\n",
       "      <th>9</th>\n",
       "      <td>CIFAR-10</td>\n",
       "      <td>NaN</td>\n",
       "      <td>NaN</td>\n",
       "      <td>NaN</td>\n",
       "      <td>NaN</td>\n",
       "    </tr>\n",
       "    <tr>\n",
       "      <th>10</th>\n",
       "      <td>32b</td>\n",
       "      <td>0.9363</td>\n",
       "      <td>99.74</td>\n",
       "      <td>3.65179E-06</td>\n",
       "      <td>65.716873</td>\n",
       "    </tr>\n",
       "    <tr>\n",
       "      <th>11</th>\n",
       "      <td>4b</td>\n",
       "      <td>0.924</td>\n",
       "      <td>99.81</td>\n",
       "      <td>5.55685E-08</td>\n",
       "      <td>1.000000</td>\n",
       "    </tr>\n",
       "    <tr>\n",
       "      <th>12</th>\n",
       "      <td>1b</td>\n",
       "      <td>0.8738</td>\n",
       "      <td>99.61</td>\n",
       "      <td>1.95139E-08</td>\n",
       "      <td>0.351168</td>\n",
       "    </tr>\n",
       "    <tr>\n",
       "      <th>13</th>\n",
       "      <td>CAMP1</td>\n",
       "      <td>0.9322</td>\n",
       "      <td>99.72</td>\n",
       "      <td>5.81134E-08</td>\n",
       "      <td>1.045798</td>\n",
       "    </tr>\n",
       "    <tr>\n",
       "      <th>14</th>\n",
       "      <td>CAMP2</td>\n",
       "      <td>0.8795</td>\n",
       "      <td>99.6</td>\n",
       "      <td>3.97544E-08</td>\n",
       "      <td>0.715412</td>\n",
       "    </tr>\n",
       "    <tr>\n",
       "      <th>15</th>\n",
       "      <td>CAMP3</td>\n",
       "      <td>0.8966</td>\n",
       "      <td>99.69</td>\n",
       "      <td>4.03349E-08</td>\n",
       "      <td>0.725859</td>\n",
       "    </tr>\n",
       "    <tr>\n",
       "      <th>16</th>\n",
       "      <td>CAMP4</td>\n",
       "      <td>0.9236</td>\n",
       "      <td>99.81</td>\n",
       "      <td>4.59378E-08</td>\n",
       "      <td>0.826687</td>\n",
       "    </tr>\n",
       "    <tr>\n",
       "      <th>17</th>\n",
       "      <td>CAMP5</td>\n",
       "      <td>0.9262</td>\n",
       "      <td>99.73</td>\n",
       "      <td>5.27052E-08</td>\n",
       "      <td>0.948473</td>\n",
       "    </tr>\n",
       "  </tbody>\n",
       "</table>\n",
       "</div>"
      ],
      "text/plain": [
       "    ResNet-44 Unnamed: 1 Unnamed: 2   Unnamed: 3  Unnamed: 4\n",
       "0   CIFAR-100       Top1       Top5       Energy         NaN\n",
       "1         32b     0.7801      94.57  5.78254E-05   84.214559\n",
       "2          4b     0.7674      93.52  6.86643E-07    1.000000\n",
       "3          1b     0.7379      92.32  1.13788E-07    0.165716\n",
       "4       CAMP1     0.7784      94.11  6.21871E-07    0.905668\n",
       "5       CAMP2     0.6976      91.24   4.1782E-07    0.608496\n",
       "6       CAMP3     0.7641      93.48  4.27329E-07    0.622345\n",
       "7       CAMP4     0.7739      93.71  4.83125E-07    0.703604\n",
       "8       CAMP5     0.7786      94.02  5.88187E-07    0.856612\n",
       "9    CIFAR-10        NaN        NaN          NaN         NaN\n",
       "10        32b     0.9363      99.74  3.65179E-06   65.716873\n",
       "11         4b      0.924      99.81  5.55685E-08    1.000000\n",
       "12         1b     0.8738      99.61  1.95139E-08    0.351168\n",
       "13      CAMP1     0.9322      99.72  5.81134E-08    1.045798\n",
       "14      CAMP2     0.8795       99.6  3.97544E-08    0.715412\n",
       "15      CAMP3     0.8966      99.69  4.03349E-08    0.725859\n",
       "16      CAMP4     0.9236      99.81  4.59378E-08    0.826687\n",
       "17      CAMP5     0.9262      99.73  5.27052E-08    0.948473"
      ]
     },
     "execution_count": 2,
     "metadata": {},
     "output_type": "execute_result"
    }
   ],
   "source": [
    "data_csv = pd.read_csv( \"data.csv\" )\n",
    "data_csv"
   ]
  },
  {
   "cell_type": "code",
   "execution_count": 3,
   "metadata": {},
   "outputs": [],
   "source": [
    "cifar100_baseline = data_csv.iloc[1:4,[1,4]].as_matrix()\n",
    "cifar100_camp = data_csv.iloc[4:9,[1,4]].as_matrix()"
   ]
  },
  {
   "cell_type": "code",
   "execution_count": 4,
   "metadata": {},
   "outputs": [
    {
     "data": {
      "text/plain": [
       "array([['0.7801', 84.21455854],\n",
       "       ['0.7674', 1.0],\n",
       "       ['0.7379', 0.165716356]], dtype=object)"
      ]
     },
     "execution_count": 4,
     "metadata": {},
     "output_type": "execute_result"
    }
   ],
   "source": [
    "cifar100_baseline"
   ]
  },
  {
   "cell_type": "code",
   "execution_count": 5,
   "metadata": {},
   "outputs": [
    {
     "data": {
      "text/plain": [
       "array([['0.7784', 0.9056675259999999],\n",
       "       ['0.6976', 0.608495692],\n",
       "       ['0.7641', 0.6223448],\n",
       "       ['0.7739', 0.703604027],\n",
       "       ['0.7786', 0.856611647]], dtype=object)"
      ]
     },
     "execution_count": 5,
     "metadata": {},
     "output_type": "execute_result"
    }
   ],
   "source": [
    "cifar100_camp"
   ]
  },
  {
   "cell_type": "code",
   "execution_count": 13,
   "metadata": {},
   "outputs": [],
   "source": [
    "y1,x1 = cifar100_baseline[:,0], cifar100_baseline[:,1]\n",
    "y2,x2 = cifar100_camp[:,0], cifar100_camp[:,1]\n",
    "\n",
    "y1 = list(map(lambda x:float(x), y1))\n",
    "y2 = list(map(lambda x:float(x), y2))"
   ]
  },
  {
   "cell_type": "code",
   "execution_count": 38,
   "metadata": {},
   "outputs": [
    {
     "data": {
      "image/png": "[encoded data removed]",
      "text/plain": [
       "<Figure size 432x288 with 1 Axes>"
      ]
     },
     "metadata": {},
     "output_type": "display_data"
    }
   ],
   "source": [
    "pdf = PdfPages('energy budget.pdf')\n",
    "\n",
    "plt.scatter(x1, y1, marker=\"^\", s=200, label='Baseline')\n",
    "plt.scatter(x2, y2, marker=\"o\", s=200, label='CAMP')\n",
    "\n",
    "plt.xscale(\"log\")\n",
    "plt.xlabel(\"Energy Budget (Normalized to ResNet 4-bit implementation) \")\n",
    "plt.ylabel(\"Accurracy (Top 1)\")\n",
    "plt.legend(loc='best',fontsize=11)\n",
    "\n",
    "plt.yticks(size = 12)\n",
    "plt.xticks(size = 12)\n",
    "\n",
    "plt.tight_layout()\n",
    "\n",
    "pdf.savefig()\n",
    "pdf.close()"
   ]
  },
  {
   "cell_type": "code",
   "execution_count": null,
   "metadata": {},
   "outputs": [],
   "source": []
  }
 ],
 "metadata": {
  "kernelspec": {
   "display_name": "Python 3",
   "language": "python",
   "name": "python3"
  },
  "language_info": {
   "codemirror_mode": {
    "name": "ipython",
    "version": 3
   },
   "file_extension": ".py",
   "mimetype": "text/x-python",
   "name": "python",
   "nbconvert_exporter": "python",
   "pygments_lexer": "ipython3",
   "version": "3.6.8"
  }
 },
 "nbformat": 4,
 "nbformat_minor": 2
}
